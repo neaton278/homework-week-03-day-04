{
 "cells": [
  {
   "cell_type": "code",
   "execution_count": 19,
   "id": "9fe7efdd",
   "metadata": {},
   "outputs": [],
   "source": [
    "import json"
   ]
  },
  {
   "cell_type": "code",
   "execution_count": 20,
   "id": "77ad2c90",
   "metadata": {},
   "outputs": [
    {
     "name": "stdout",
     "output_type": "stream",
     "text": [
      "<Response [200]>\n",
      "<class 'requests.models.Response'>\n"
     ]
    }
   ],
   "source": [
    "import requests\n",
    "r = requests.get(\"https://pokeapi.co/api/v2/machine?limit=30\")\n",
    "print( r )\n",
    "print( type( r ))"
   ]
  },
  {
   "cell_type": "code",
   "execution_count": 21,
   "id": "13c8b115",
   "metadata": {},
   "outputs": [],
   "source": [
    "data = request.json()"
   ]
  },
  {
   "cell_type": "code",
   "execution_count": 22,
   "id": "3f82c699",
   "metadata": {},
   "outputs": [
    {
     "data": {
      "text/plain": [
       "[{'url': 'https://pokeapi.co/api/v2/machine/1/'},\n",
       " {'url': 'https://pokeapi.co/api/v2/machine/2/'},\n",
       " {'url': 'https://pokeapi.co/api/v2/machine/3/'},\n",
       " {'url': 'https://pokeapi.co/api/v2/machine/4/'},\n",
       " {'url': 'https://pokeapi.co/api/v2/machine/5/'},\n",
       " {'url': 'https://pokeapi.co/api/v2/machine/6/'},\n",
       " {'url': 'https://pokeapi.co/api/v2/machine/7/'},\n",
       " {'url': 'https://pokeapi.co/api/v2/machine/8/'},\n",
       " {'url': 'https://pokeapi.co/api/v2/machine/9/'},\n",
       " {'url': 'https://pokeapi.co/api/v2/machine/10/'},\n",
       " {'url': 'https://pokeapi.co/api/v2/machine/11/'},\n",
       " {'url': 'https://pokeapi.co/api/v2/machine/12/'},\n",
       " {'url': 'https://pokeapi.co/api/v2/machine/13/'},\n",
       " {'url': 'https://pokeapi.co/api/v2/machine/14/'},\n",
       " {'url': 'https://pokeapi.co/api/v2/machine/15/'},\n",
       " {'url': 'https://pokeapi.co/api/v2/machine/16/'},\n",
       " {'url': 'https://pokeapi.co/api/v2/machine/17/'},\n",
       " {'url': 'https://pokeapi.co/api/v2/machine/18/'},\n",
       " {'url': 'https://pokeapi.co/api/v2/machine/19/'},\n",
       " {'url': 'https://pokeapi.co/api/v2/machine/20/'},\n",
       " {'url': 'https://pokeapi.co/api/v2/machine/21/'},\n",
       " {'url': 'https://pokeapi.co/api/v2/machine/22/'},\n",
       " {'url': 'https://pokeapi.co/api/v2/machine/23/'},\n",
       " {'url': 'https://pokeapi.co/api/v2/machine/24/'},\n",
       " {'url': 'https://pokeapi.co/api/v2/machine/25/'},\n",
       " {'url': 'https://pokeapi.co/api/v2/machine/26/'},\n",
       " {'url': 'https://pokeapi.co/api/v2/machine/27/'},\n",
       " {'url': 'https://pokeapi.co/api/v2/machine/28/'},\n",
       " {'url': 'https://pokeapi.co/api/v2/machine/29/'},\n",
       " {'url': 'https://pokeapi.co/api/v2/machine/30/'}]"
      ]
     },
     "execution_count": 22,
     "metadata": {},
     "output_type": "execute_result"
    }
   ],
   "source": [
    "data['results']"
   ]
  },
  {
   "cell_type": "code",
   "execution_count": 39,
   "id": "1ca99fb9",
   "metadata": {},
   "outputs": [
    {
     "data": {
      "text/plain": [
       "{'id': 1,\n",
       " 'item': {'name': 'tm01', 'url': 'https://pokeapi.co/api/v2/item/305/'},\n",
       " 'move': {'name': 'mega-punch', 'url': 'https://pokeapi.co/api/v2/move/5/'},\n",
       " 'version_group': {'name': 'red-blue',\n",
       "  'url': 'https://pokeapi.co/api/v2/version-group/1/'}}"
      ]
     },
     "execution_count": 39,
     "metadata": {},
     "output_type": "execute_result"
    }
   ],
   "source": [
    "pokemons = [requests.get(result['url']).json()\n",
    "            for result in data['results']]\n",
    "pokemons[0]"
   ]
  },
  {
   "cell_type": "code",
   "execution_count": 45,
   "id": "263019b1",
   "metadata": {},
   "outputs": [
    {
     "data": {
      "text/plain": [
       "[{'id': 1,\n",
       "  'item': {'name': 'tm01', 'url': 'https://pokeapi.co/api/v2/item/305/'},\n",
       "  'move': {'name': 'mega-punch', 'url': 'https://pokeapi.co/api/v2/move/5/'},\n",
       "  'version_group': {'name': 'red-blue',\n",
       "   'url': 'https://pokeapi.co/api/v2/version-group/1/'}},\n",
       " {'id': 2,\n",
       "  'item': {'name': 'tm01', 'url': 'https://pokeapi.co/api/v2/item/305/'},\n",
       "  'move': {'name': 'mega-punch', 'url': 'https://pokeapi.co/api/v2/move/5/'},\n",
       "  'version_group': {'name': 'yellow',\n",
       "   'url': 'https://pokeapi.co/api/v2/version-group/2/'}},\n",
       " {'id': 3,\n",
       "  'item': {'name': 'tm01', 'url': 'https://pokeapi.co/api/v2/item/305/'},\n",
       "  'move': {'name': 'dynamic-punch',\n",
       "   'url': 'https://pokeapi.co/api/v2/move/223/'},\n",
       "  'version_group': {'name': 'gold-silver',\n",
       "   'url': 'https://pokeapi.co/api/v2/version-group/3/'}},\n",
       " {'id': 4,\n",
       "  'item': {'name': 'tm01', 'url': 'https://pokeapi.co/api/v2/item/305/'},\n",
       "  'move': {'name': 'dynamic-punch',\n",
       "   'url': 'https://pokeapi.co/api/v2/move/223/'},\n",
       "  'version_group': {'name': 'crystal',\n",
       "   'url': 'https://pokeapi.co/api/v2/version-group/4/'}},\n",
       " {'id': 5,\n",
       "  'item': {'name': 'tm01', 'url': 'https://pokeapi.co/api/v2/item/305/'},\n",
       "  'move': {'name': 'focus-punch',\n",
       "   'url': 'https://pokeapi.co/api/v2/move/264/'},\n",
       "  'version_group': {'name': 'ruby-sapphire',\n",
       "   'url': 'https://pokeapi.co/api/v2/version-group/5/'}},\n",
       " {'id': 6,\n",
       "  'item': {'name': 'tm01', 'url': 'https://pokeapi.co/api/v2/item/305/'},\n",
       "  'move': {'name': 'focus-punch',\n",
       "   'url': 'https://pokeapi.co/api/v2/move/264/'},\n",
       "  'version_group': {'name': 'emerald',\n",
       "   'url': 'https://pokeapi.co/api/v2/version-group/6/'}},\n",
       " {'id': 7,\n",
       "  'item': {'name': 'tm01', 'url': 'https://pokeapi.co/api/v2/item/305/'},\n",
       "  'move': {'name': 'focus-punch',\n",
       "   'url': 'https://pokeapi.co/api/v2/move/264/'},\n",
       "  'version_group': {'name': 'firered-leafgreen',\n",
       "   'url': 'https://pokeapi.co/api/v2/version-group/7/'}},\n",
       " {'id': 8,\n",
       "  'item': {'name': 'tm01', 'url': 'https://pokeapi.co/api/v2/item/305/'},\n",
       "  'move': {'name': 'focus-punch',\n",
       "   'url': 'https://pokeapi.co/api/v2/move/264/'},\n",
       "  'version_group': {'name': 'diamond-pearl',\n",
       "   'url': 'https://pokeapi.co/api/v2/version-group/8/'}},\n",
       " {'id': 9,\n",
       "  'item': {'name': 'tm01', 'url': 'https://pokeapi.co/api/v2/item/305/'},\n",
       "  'move': {'name': 'focus-punch',\n",
       "   'url': 'https://pokeapi.co/api/v2/move/264/'},\n",
       "  'version_group': {'name': 'platinum',\n",
       "   'url': 'https://pokeapi.co/api/v2/version-group/9/'}},\n",
       " {'id': 10,\n",
       "  'item': {'name': 'tm01', 'url': 'https://pokeapi.co/api/v2/item/305/'},\n",
       "  'move': {'name': 'focus-punch',\n",
       "   'url': 'https://pokeapi.co/api/v2/move/264/'},\n",
       "  'version_group': {'name': 'heartgold-soulsilver',\n",
       "   'url': 'https://pokeapi.co/api/v2/version-group/10/'}},\n",
       " {'id': 11,\n",
       "  'item': {'name': 'tm01', 'url': 'https://pokeapi.co/api/v2/item/305/'},\n",
       "  'move': {'name': 'hone-claws', 'url': 'https://pokeapi.co/api/v2/move/468/'},\n",
       "  'version_group': {'name': 'black-white',\n",
       "   'url': 'https://pokeapi.co/api/v2/version-group/11/'}},\n",
       " {'id': 12,\n",
       "  'item': {'name': 'tm01', 'url': 'https://pokeapi.co/api/v2/item/305/'},\n",
       "  'move': {'name': 'focus-punch',\n",
       "   'url': 'https://pokeapi.co/api/v2/move/264/'},\n",
       "  'version_group': {'name': 'colosseum',\n",
       "   'url': 'https://pokeapi.co/api/v2/version-group/12/'}},\n",
       " {'id': 13,\n",
       "  'item': {'name': 'tm01', 'url': 'https://pokeapi.co/api/v2/item/305/'},\n",
       "  'move': {'name': 'focus-punch',\n",
       "   'url': 'https://pokeapi.co/api/v2/move/264/'},\n",
       "  'version_group': {'name': 'xd',\n",
       "   'url': 'https://pokeapi.co/api/v2/version-group/13/'}},\n",
       " {'id': 14,\n",
       "  'item': {'name': 'tm01', 'url': 'https://pokeapi.co/api/v2/item/305/'},\n",
       "  'move': {'name': 'hone-claws', 'url': 'https://pokeapi.co/api/v2/move/468/'},\n",
       "  'version_group': {'name': 'black-2-white-2',\n",
       "   'url': 'https://pokeapi.co/api/v2/version-group/14/'}},\n",
       " {'id': 15,\n",
       "  'item': {'name': 'tm01', 'url': 'https://pokeapi.co/api/v2/item/305/'},\n",
       "  'move': {'name': 'hone-claws', 'url': 'https://pokeapi.co/api/v2/move/468/'},\n",
       "  'version_group': {'name': 'x-y',\n",
       "   'url': 'https://pokeapi.co/api/v2/version-group/15/'}},\n",
       " {'id': 16,\n",
       "  'item': {'name': 'tm01', 'url': 'https://pokeapi.co/api/v2/item/305/'},\n",
       "  'move': {'name': 'hone-claws', 'url': 'https://pokeapi.co/api/v2/move/468/'},\n",
       "  'version_group': {'name': 'omega-ruby-alpha-sapphire',\n",
       "   'url': 'https://pokeapi.co/api/v2/version-group/16/'}},\n",
       " {'id': 17,\n",
       "  'item': {'name': 'tm01', 'url': 'https://pokeapi.co/api/v2/item/305/'},\n",
       "  'move': {'name': 'work-up', 'url': 'https://pokeapi.co/api/v2/move/526/'},\n",
       "  'version_group': {'name': 'sun-moon',\n",
       "   'url': 'https://pokeapi.co/api/v2/version-group/17/'}},\n",
       " {'id': 18,\n",
       "  'item': {'name': 'tm01', 'url': 'https://pokeapi.co/api/v2/item/305/'},\n",
       "  'move': {'name': 'work-up', 'url': 'https://pokeapi.co/api/v2/move/526/'},\n",
       "  'version_group': {'name': 'ultra-sun-ultra-moon',\n",
       "   'url': 'https://pokeapi.co/api/v2/version-group/18/'}},\n",
       " {'id': 19,\n",
       "  'item': {'name': 'tm02', 'url': 'https://pokeapi.co/api/v2/item/306/'},\n",
       "  'move': {'name': 'razor-wind', 'url': 'https://pokeapi.co/api/v2/move/13/'},\n",
       "  'version_group': {'name': 'red-blue',\n",
       "   'url': 'https://pokeapi.co/api/v2/version-group/1/'}},\n",
       " {'id': 20,\n",
       "  'item': {'name': 'tm02', 'url': 'https://pokeapi.co/api/v2/item/306/'},\n",
       "  'move': {'name': 'razor-wind', 'url': 'https://pokeapi.co/api/v2/move/13/'},\n",
       "  'version_group': {'name': 'yellow',\n",
       "   'url': 'https://pokeapi.co/api/v2/version-group/2/'}},\n",
       " {'id': 21,\n",
       "  'item': {'name': 'tm02', 'url': 'https://pokeapi.co/api/v2/item/306/'},\n",
       "  'move': {'name': 'headbutt', 'url': 'https://pokeapi.co/api/v2/move/29/'},\n",
       "  'version_group': {'name': 'gold-silver',\n",
       "   'url': 'https://pokeapi.co/api/v2/version-group/3/'}},\n",
       " {'id': 22,\n",
       "  'item': {'name': 'tm02', 'url': 'https://pokeapi.co/api/v2/item/306/'},\n",
       "  'move': {'name': 'headbutt', 'url': 'https://pokeapi.co/api/v2/move/29/'},\n",
       "  'version_group': {'name': 'crystal',\n",
       "   'url': 'https://pokeapi.co/api/v2/version-group/4/'}},\n",
       " {'id': 23,\n",
       "  'item': {'name': 'tm02', 'url': 'https://pokeapi.co/api/v2/item/306/'},\n",
       "  'move': {'name': 'dragon-claw',\n",
       "   'url': 'https://pokeapi.co/api/v2/move/337/'},\n",
       "  'version_group': {'name': 'ruby-sapphire',\n",
       "   'url': 'https://pokeapi.co/api/v2/version-group/5/'}},\n",
       " {'id': 24,\n",
       "  'item': {'name': 'tm02', 'url': 'https://pokeapi.co/api/v2/item/306/'},\n",
       "  'move': {'name': 'dragon-claw',\n",
       "   'url': 'https://pokeapi.co/api/v2/move/337/'},\n",
       "  'version_group': {'name': 'emerald',\n",
       "   'url': 'https://pokeapi.co/api/v2/version-group/6/'}},\n",
       " {'id': 25,\n",
       "  'item': {'name': 'tm02', 'url': 'https://pokeapi.co/api/v2/item/306/'},\n",
       "  'move': {'name': 'dragon-claw',\n",
       "   'url': 'https://pokeapi.co/api/v2/move/337/'},\n",
       "  'version_group': {'name': 'firered-leafgreen',\n",
       "   'url': 'https://pokeapi.co/api/v2/version-group/7/'}},\n",
       " {'id': 26,\n",
       "  'item': {'name': 'tm02', 'url': 'https://pokeapi.co/api/v2/item/306/'},\n",
       "  'move': {'name': 'dragon-claw',\n",
       "   'url': 'https://pokeapi.co/api/v2/move/337/'},\n",
       "  'version_group': {'name': 'diamond-pearl',\n",
       "   'url': 'https://pokeapi.co/api/v2/version-group/8/'}},\n",
       " {'id': 27,\n",
       "  'item': {'name': 'tm02', 'url': 'https://pokeapi.co/api/v2/item/306/'},\n",
       "  'move': {'name': 'dragon-claw',\n",
       "   'url': 'https://pokeapi.co/api/v2/move/337/'},\n",
       "  'version_group': {'name': 'platinum',\n",
       "   'url': 'https://pokeapi.co/api/v2/version-group/9/'}},\n",
       " {'id': 28,\n",
       "  'item': {'name': 'tm02', 'url': 'https://pokeapi.co/api/v2/item/306/'},\n",
       "  'move': {'name': 'dragon-claw',\n",
       "   'url': 'https://pokeapi.co/api/v2/move/337/'},\n",
       "  'version_group': {'name': 'heartgold-soulsilver',\n",
       "   'url': 'https://pokeapi.co/api/v2/version-group/10/'}},\n",
       " {'id': 29,\n",
       "  'item': {'name': 'tm02', 'url': 'https://pokeapi.co/api/v2/item/306/'},\n",
       "  'move': {'name': 'dragon-claw',\n",
       "   'url': 'https://pokeapi.co/api/v2/move/337/'},\n",
       "  'version_group': {'name': 'black-white',\n",
       "   'url': 'https://pokeapi.co/api/v2/version-group/11/'}},\n",
       " {'id': 30,\n",
       "  'item': {'name': 'tm02', 'url': 'https://pokeapi.co/api/v2/item/306/'},\n",
       "  'move': {'name': 'dragon-claw',\n",
       "   'url': 'https://pokeapi.co/api/v2/move/337/'},\n",
       "  'version_group': {'name': 'colosseum',\n",
       "   'url': 'https://pokeapi.co/api/v2/version-group/12/'}}]"
      ]
     },
     "execution_count": 45,
     "metadata": {},
     "output_type": "execute_result"
    }
   ],
   "source": [
    "with open('machines.json') as pokemons:\n",
    "    data = json.load(pokemons)\n",
    "data"
   ]
  },
  {
   "cell_type": "code",
   "execution_count": 66,
   "id": "a06a1f3e",
   "metadata": {},
   "outputs": [
    {
     "ename": "TypeError",
     "evalue": "'Response' object is not subscriptable",
     "output_type": "error",
     "traceback": [
      "\u001b[1;31m---------------------------------------------------------------------------\u001b[0m",
      "\u001b[1;31mTypeError\u001b[0m                                 Traceback (most recent call last)",
      "\u001b[1;32m<ipython-input-66-be50c9f2ece2>\u001b[0m in \u001b[0;36m<module>\u001b[1;34m\u001b[0m\n\u001b[0;32m      3\u001b[0m \u001b[1;31m#    print(data)\u001b[0m\u001b[1;33m\u001b[0m\u001b[1;33m\u001b[0m\u001b[1;33m\u001b[0m\u001b[0m\n\u001b[0;32m      4\u001b[0m     new_dict = {\n\u001b[1;32m----> 5\u001b[1;33m         \u001b[1;34m'id'\u001b[0m\u001b[1;33m:\u001b[0m\u001b[0mr\u001b[0m\u001b[1;33m[\u001b[0m\u001b[1;34m'id'\u001b[0m\u001b[1;33m]\u001b[0m\u001b[1;33m,\u001b[0m\u001b[1;33m\u001b[0m\u001b[1;33m\u001b[0m\u001b[0m\n\u001b[0m\u001b[0;32m      6\u001b[0m         \u001b[1;34m'item'\u001b[0m\u001b[1;33m:\u001b[0m \u001b[0mr\u001b[0m\u001b[1;33m[\u001b[0m\u001b[1;34m'item'\u001b[0m\u001b[1;33m]\u001b[0m\u001b[1;33m,\u001b[0m\u001b[1;33m\u001b[0m\u001b[1;33m\u001b[0m\u001b[0m\n\u001b[0;32m      7\u001b[0m         \u001b[1;34m'move'\u001b[0m\u001b[1;33m:\u001b[0m\u001b[0mr\u001b[0m\u001b[1;33m[\u001b[0m\u001b[1;34m'move'\u001b[0m\u001b[1;33m]\u001b[0m\u001b[1;33m,\u001b[0m\u001b[1;33m\u001b[0m\u001b[1;33m\u001b[0m\u001b[0m\n",
      "\u001b[1;31mTypeError\u001b[0m: 'Response' object is not subscriptable"
     ]
    }
   ],
   "source": [
    "with open('machines.json') as pokemons:\n",
    "    data = json.load(pokemons)\n",
    "#    print(data)\n",
    "    new_dict = {\n",
    "        'id':r['id'],\n",
    "        'item': r['item'],\n",
    "        'move':r['move'],\n",
    "        'url':r['url'],\n",
    "        'version_group':r['version_group']   \n",
    "    }\n",
    "    print(new_dict)"
   ]
  },
  {
   "cell_type": "code",
   "execution_count": null,
   "id": "5baa582b",
   "metadata": {},
   "outputs": [],
   "source": []
  }
 ],
 "metadata": {
  "kernelspec": {
   "display_name": "Python 3",
   "language": "python",
   "name": "python3"
  },
  "language_info": {
   "codemirror_mode": {
    "name": "ipython",
    "version": 3
   },
   "file_extension": ".py",
   "mimetype": "text/x-python",
   "name": "python",
   "nbconvert_exporter": "python",
   "pygments_lexer": "ipython3",
   "version": "3.8.8"
  }
 },
 "nbformat": 4,
 "nbformat_minor": 5
}
